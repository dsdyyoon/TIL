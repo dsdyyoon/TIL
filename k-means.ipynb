{
 "cells": [
  {
   "cell_type": "code",
   "execution_count": 16,
   "metadata": {},
   "outputs": [],
   "source": [
    "import pandas as pd\n",
    "data = pd.read_csv('../iris.csv')"
   ]
  },
  {
   "cell_type": "markdown",
   "metadata": {},
   "source": [
    "- 각 군집의 거리가 얼마나 잘 분리되어있는지 확인하는 방법\n",
    "- 실루엣 계수의 전체평균에서 멀어질 수록 잘 군집화 되지못한 클러스터임을 확인 함."
   ]
  },
  {
   "cell_type": "code",
   "execution_count": null,
   "metadata": {},
   "outputs": [],
   "source": [
    "# 각각의 그룹값을 종명칭으로 대체합니다.\n",
    "data= data.replace({'Setosa':0})\n",
    "data= data.replace({'Versicolor':1})\n",
    "data= data.replace({'Virginica':2})\n",
    "data"
   ]
  },
  {
   "cell_type": "code",
   "execution_count": 21,
   "metadata": {},
   "outputs": [],
   "source": [
    "from sklearn.cluster import KMeans\n",
    "import numpy as np\n",
    "from sklearn.datasets import load_iris\n",
    "import pandas as pd\n",
    "\n",
    "kmeans = KMeans(n_clusters=3, random_state=0).fit(data[['sepal.length','sepal.width','petal.length','petal.width']])\n",
    "iris_fit = pd.concat([data, pd.DataFrame(kmeans.labels_)], axis=1)\n",
    "iris_fit.columns = ['sepal.length','sepal.width','petal.length','petal.width','variety', 'KmeansFit']"
   ]
  },
  {
   "cell_type": "code",
   "execution_count": 23,
   "metadata": {},
   "outputs": [
    {
     "data": {
      "text/html": [
       "<div>\n",
       "<style scoped>\n",
       "    .dataframe tbody tr th:only-of-type {\n",
       "        vertical-align: middle;\n",
       "    }\n",
       "\n",
       "    .dataframe tbody tr th {\n",
       "        vertical-align: top;\n",
       "    }\n",
       "\n",
       "    .dataframe thead th {\n",
       "        text-align: right;\n",
       "    }\n",
       "</style>\n",
       "<table border=\"1\" class=\"dataframe\">\n",
       "  <thead>\n",
       "    <tr style=\"text-align: right;\">\n",
       "      <th></th>\n",
       "      <th>sepal.length</th>\n",
       "      <th>sepal.width</th>\n",
       "      <th>petal.length</th>\n",
       "      <th>petal.width</th>\n",
       "      <th>variety</th>\n",
       "      <th>KmeansFit</th>\n",
       "    </tr>\n",
       "  </thead>\n",
       "  <tbody>\n",
       "    <tr>\n",
       "      <th>0</th>\n",
       "      <td>5.1</td>\n",
       "      <td>3.5</td>\n",
       "      <td>1.4</td>\n",
       "      <td>0.2</td>\n",
       "      <td>0</td>\n",
       "      <td>1</td>\n",
       "    </tr>\n",
       "    <tr>\n",
       "      <th>1</th>\n",
       "      <td>4.9</td>\n",
       "      <td>3.0</td>\n",
       "      <td>1.4</td>\n",
       "      <td>0.2</td>\n",
       "      <td>0</td>\n",
       "      <td>1</td>\n",
       "    </tr>\n",
       "    <tr>\n",
       "      <th>2</th>\n",
       "      <td>4.7</td>\n",
       "      <td>3.2</td>\n",
       "      <td>1.3</td>\n",
       "      <td>0.2</td>\n",
       "      <td>0</td>\n",
       "      <td>1</td>\n",
       "    </tr>\n",
       "    <tr>\n",
       "      <th>3</th>\n",
       "      <td>4.6</td>\n",
       "      <td>3.1</td>\n",
       "      <td>1.5</td>\n",
       "      <td>0.2</td>\n",
       "      <td>0</td>\n",
       "      <td>1</td>\n",
       "    </tr>\n",
       "    <tr>\n",
       "      <th>4</th>\n",
       "      <td>5.0</td>\n",
       "      <td>3.6</td>\n",
       "      <td>1.4</td>\n",
       "      <td>0.2</td>\n",
       "      <td>0</td>\n",
       "      <td>1</td>\n",
       "    </tr>\n",
       "    <tr>\n",
       "      <th>...</th>\n",
       "      <td>...</td>\n",
       "      <td>...</td>\n",
       "      <td>...</td>\n",
       "      <td>...</td>\n",
       "      <td>...</td>\n",
       "      <td>...</td>\n",
       "    </tr>\n",
       "    <tr>\n",
       "      <th>145</th>\n",
       "      <td>6.7</td>\n",
       "      <td>3.0</td>\n",
       "      <td>5.2</td>\n",
       "      <td>2.3</td>\n",
       "      <td>2</td>\n",
       "      <td>0</td>\n",
       "    </tr>\n",
       "    <tr>\n",
       "      <th>146</th>\n",
       "      <td>6.3</td>\n",
       "      <td>2.5</td>\n",
       "      <td>5.0</td>\n",
       "      <td>1.9</td>\n",
       "      <td>2</td>\n",
       "      <td>2</td>\n",
       "    </tr>\n",
       "    <tr>\n",
       "      <th>147</th>\n",
       "      <td>6.5</td>\n",
       "      <td>3.0</td>\n",
       "      <td>5.2</td>\n",
       "      <td>2.0</td>\n",
       "      <td>2</td>\n",
       "      <td>0</td>\n",
       "    </tr>\n",
       "    <tr>\n",
       "      <th>148</th>\n",
       "      <td>6.2</td>\n",
       "      <td>3.4</td>\n",
       "      <td>5.4</td>\n",
       "      <td>2.3</td>\n",
       "      <td>2</td>\n",
       "      <td>0</td>\n",
       "    </tr>\n",
       "    <tr>\n",
       "      <th>149</th>\n",
       "      <td>5.9</td>\n",
       "      <td>3.0</td>\n",
       "      <td>5.1</td>\n",
       "      <td>1.8</td>\n",
       "      <td>2</td>\n",
       "      <td>2</td>\n",
       "    </tr>\n",
       "  </tbody>\n",
       "</table>\n",
       "<p>150 rows × 6 columns</p>\n",
       "</div>"
      ],
      "text/plain": [
       "     sepal.length  sepal.width  petal.length  petal.width  variety  KmeansFit\n",
       "0             5.1          3.5           1.4          0.2        0          1\n",
       "1             4.9          3.0           1.4          0.2        0          1\n",
       "2             4.7          3.2           1.3          0.2        0          1\n",
       "3             4.6          3.1           1.5          0.2        0          1\n",
       "4             5.0          3.6           1.4          0.2        0          1\n",
       "..            ...          ...           ...          ...      ...        ...\n",
       "145           6.7          3.0           5.2          2.3        2          0\n",
       "146           6.3          2.5           5.0          1.9        2          2\n",
       "147           6.5          3.0           5.2          2.0        2          0\n",
       "148           6.2          3.4           5.4          2.3        2          0\n",
       "149           5.9          3.0           5.1          1.8        2          2\n",
       "\n",
       "[150 rows x 6 columns]"
      ]
     },
     "execution_count": 23,
     "metadata": {},
     "output_type": "execute_result"
    }
   ],
   "source": [
    "iris_fit"
   ]
  },
  {
   "cell_type": "code",
   "execution_count": 28,
   "metadata": {},
   "outputs": [
    {
     "name": "stdout",
     "output_type": "stream",
     "text": [
      "0.5528190123564102\n"
     ]
    },
    {
     "data": {
      "image/png": "[encoded data removed]",
      "text/plain": [
       "<Figure size 432x288 with 1 Axes>"
      ]
     },
     "metadata": {
      "needs_background": "light"
     },
     "output_type": "display_data"
    }
   ],
   "source": [
    "from sklearn.metrics import silhouette_samples\n",
    "from matplotlib import cm\n",
    "import matplotlib.pyplot as plt\n",
    "import seaborn as sns\n",
    "# 클러스터 셋팅\n",
    "clustnumber = 3\n",
    "\n",
    "# 실루엣 확인\n",
    "k = []\n",
    "def plotSilhouette(X, y_km):\n",
    "    cluster_labels = np.unique(y_km)\n",
    "    n_clusters = cluster_labels.shape[0]\n",
    "    silhouette_vals = silhouette_samples(X, y_km, metric='euclidean')\n",
    "    y_ax_lower, y_ax_upper = 0 ,0\n",
    "    yticks = []\n",
    "    \n",
    "    for i, c in enumerate(cluster_labels):\n",
    "        c_silhouette_vals = silhouette_vals[y_km == c]\n",
    "        c_silhouette_vals.sort()\n",
    "        y_ax_upper += len(c_silhouette_vals)\n",
    "        color = cm.jet(i/n_clusters)\n",
    "        plt.barh(range(y_ax_lower, y_ax_upper), c_silhouette_vals, height=1.0, edgecolor='none', color=color)\n",
    "        yticks.append((y_ax_lower + y_ax_upper)/2)\n",
    "        y_ax_lower += len(c_silhouette_vals)\n",
    "        \n",
    "    silhoutte_avg = np.mean(silhouette_vals)\n",
    "    k.append(silhouette_vals)\n",
    "    print(silhoutte_avg)\n",
    "    plt.axvline(silhoutte_avg, color='red', linestyle='--')\n",
    "    plt.yticks(yticks, cluster_labels)\n",
    "    plt.ylabel('클러스터')\n",
    "    plt.xlabel('실루엣 계수')\n",
    "    plt.show()\n",
    "\n",
    "km = KMeans(n_clusters=clustnumber,  random_state = 1234) \n",
    "y_km = km.fit_predict(data[['sepal.length','sepal.width','petal.length','petal.width']])\n",
    "plotSilhouette(data[['sepal.length','sepal.width','petal.length','petal.width']] , y_km)"
   ]
  },
  {
   "cell_type": "code",
   "execution_count": 29,
   "metadata": {},
   "outputs": [
    {
     "name": "stdout",
     "output_type": "stream",
     "text": [
      "0.6810461692117465\n"
     ]
    },
    {
     "data": {
      "image/png": "[encoded data removed]",
      "text/plain": [
       "<Figure size 432x288 with 1 Axes>"
      ]
     },
     "metadata": {
      "needs_background": "light"
     },
     "output_type": "display_data"
    }
   ],
   "source": [
    "from sklearn.metrics import silhouette_samples\n",
    "from matplotlib import cm\n",
    "import matplotlib.pyplot as plt\n",
    "import seaborn as sns\n",
    "# 클러스터 셋팅\n",
    "clustnumber = 2\n",
    "\n",
    "# 실루엣 확인\n",
    "k = []\n",
    "def plotSilhouette(X, y_km):\n",
    "    cluster_labels = np.unique(y_km)\n",
    "    n_clusters = cluster_labels.shape[0]\n",
    "    silhouette_vals = silhouette_samples(X, y_km, metric='euclidean')\n",
    "    y_ax_lower, y_ax_upper = 0 ,0\n",
    "    yticks = []\n",
    "    \n",
    "    for i, c in enumerate(cluster_labels):\n",
    "        c_silhouette_vals = silhouette_vals[y_km == c]\n",
    "        c_silhouette_vals.sort()\n",
    "        y_ax_upper += len(c_silhouette_vals)\n",
    "        color = cm.jet(i/n_clusters)\n",
    "        plt.barh(range(y_ax_lower, y_ax_upper), c_silhouette_vals, height=1.0, edgecolor='none', color=color)\n",
    "        yticks.append((y_ax_lower + y_ax_upper)/2)\n",
    "        y_ax_lower += len(c_silhouette_vals)\n",
    "        \n",
    "    silhoutte_avg = np.mean(silhouette_vals)\n",
    "    k.append(silhouette_vals)\n",
    "    print(silhoutte_avg)\n",
    "    plt.axvline(silhoutte_avg, color='red', linestyle='--')\n",
    "    plt.yticks(yticks, cluster_labels)\n",
    "    plt.ylabel('클러스터')\n",
    "    plt.xlabel('실루엣 계수')\n",
    "    plt.show()\n",
    "\n",
    "km = KMeans(n_clusters=clustnumber,  random_state = 1234) \n",
    "y_km = km.fit_predict(data[['sepal.length','sepal.width','petal.length','petal.width']])\n",
    "plotSilhouette(data[['sepal.length','sepal.width','petal.length','petal.width']] , y_km)"
   ]
  }
 ],
 "metadata": {
  "kernelspec": {
   "display_name": "Python 3",
   "language": "python",
   "name": "python3"
  },
  "language_info": {
   "codemirror_mode": {
    "name": "ipython",
    "version": 3
   },
   "file_extension": ".py",
   "mimetype": "text/x-python",
   "name": "python",
   "nbconvert_exporter": "python",
   "pygments_lexer": "ipython3",
   "version": "3.6.9"
  }
 },
 "nbformat": 4,
 "nbformat_minor": 4
}
